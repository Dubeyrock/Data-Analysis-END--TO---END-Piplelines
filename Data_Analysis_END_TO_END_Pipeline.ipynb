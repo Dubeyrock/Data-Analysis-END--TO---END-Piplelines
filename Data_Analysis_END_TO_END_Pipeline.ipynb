{
  "nbformat": 4,
  "nbformat_minor": 0,
  "metadata": {
    "colab": {
      "provenance": [],
      "authorship_tag": "ABX9TyOZbO1qB6/OvEN1+LqQzv4l",
      "include_colab_link": true
    },
    "kernelspec": {
      "name": "python3",
      "display_name": "Python 3"
    },
    "language_info": {
      "name": "python"
    }
  },
  "cells": [
    {
      "cell_type": "markdown",
      "metadata": {
        "id": "view-in-github",
        "colab_type": "text"
      },
      "source": [
        "<a href=\"https://colab.research.google.com/github/Dubeyrock/Data-Analysis-END--TO---END-Piplelines/blob/main/Data_Analysis_END_TO_END_Pipeline.ipynb\" target=\"_parent\"><img src=\"https://colab.research.google.com/assets/colab-badge.svg\" alt=\"Open In Colab\"/></a>"
      ]
    },
    {
      "cell_type": "markdown",
      "source": [
        "DATA Analysis"
      ],
      "metadata": {
        "id": "MiapjtltCOPo"
      }
    },
    {
      "cell_type": "markdown",
      "source": [
        "THE DATA , OUR GOAL, DATA OVERVIEW"
      ],
      "metadata": {
        "id": "kB9Yr9WACjFy"
      }
    },
    {
      "cell_type": "code",
      "source": [
        "/content/LCDataDictionary.csv\n"
      ],
      "metadata": {
        "id": "MzWe7odKCo5C"
      },
      "execution_count": null,
      "outputs": []
    },
    {
      "cell_type": "code",
      "source": [
        "data = pd.read_csv(\"/content/LCDataDictionary.csv\")\n",
        "pd"
      ],
      "metadata": {
        "colab": {
          "base_uri": "https://localhost:8080/"
        },
        "id": "7nT2rDN5Cgf2",
        "outputId": "691800fa-8fc5-434e-e872-34c67d4e4ee8"
      },
      "execution_count": null,
      "outputs": [
        {
          "output_type": "execute_result",
          "data": {
            "text/plain": [
              "<module 'pandas' from '/usr/local/lib/python3.10/dist-packages/pandas/__init__.py'>"
            ]
          },
          "metadata": {},
          "execution_count": 3
        }
      ]
    },
    {
      "cell_type": "code",
      "source": [
        "data.info"
      ],
      "metadata": {
        "colab": {
          "base_uri": "https://localhost:8080/"
        },
        "id": "SkEYiPluHV5l",
        "outputId": "ff8a369e-78a2-45bf-b207-e4043d614ed2"
      },
      "execution_count": null,
      "outputs": [
        {
          "output_type": "execute_result",
          "data": {
            "text/plain": [
              "<bound method DataFrame.info of                LoanStatNew                                        Description\n",
              "0           acc_now_delinq  The number of accounts on which the borrower i...\n",
              "1     acc_open_past_24mths         Number of trades opened in past 24 months.\n",
              "2               addr_state  The state provided by the borrower in the loan...\n",
              "3                 all_util              Balance to credit limit on all trades\n",
              "4               annual_inc  The self-reported annual income provided by th...\n",
              "..                     ...                                                ...\n",
              "112    verification_status  Indicates if income was verified by LC, not ve...\n",
              "113  verified_status_joint  Indicates if the co-borrowers' joint income wa...\n",
              "114               zip_code  The first 3 numbers of the zip code provided b...\n",
              "115                    NaN                                                NaN\n",
              "116                    NaN  * Employer Title replaces Employer Name for al...\n",
              "\n",
              "[117 rows x 2 columns]>"
            ]
          },
          "metadata": {},
          "execution_count": 4
        }
      ]
    },
    {
      "cell_type": "code",
      "source": [
        "data.Description"
      ],
      "metadata": {
        "colab": {
          "base_uri": "https://localhost:8080/"
        },
        "id": "MnFdfY75He0i",
        "outputId": "0b4ff93a-743f-4438-fda5-5186626e5e7c"
      },
      "execution_count": null,
      "outputs": [
        {
          "output_type": "execute_result",
          "data": {
            "text/plain": [
              "0      The number of accounts on which the borrower i...\n",
              "1             Number of trades opened in past 24 months.\n",
              "2      The state provided by the borrower in the loan...\n",
              "3                  Balance to credit limit on all trades\n",
              "4      The self-reported annual income provided by th...\n",
              "                             ...                        \n",
              "112    Indicates if income was verified by LC, not ve...\n",
              "113    Indicates if the co-borrowers' joint income wa...\n",
              "114    The first 3 numbers of the zip code provided b...\n",
              "115                                                  NaN\n",
              "116    * Employer Title replaces Employer Name for al...\n",
              "Name: Description, Length: 117, dtype: object"
            ]
          },
          "metadata": {},
          "execution_count": 5
        }
      ]
    },
    {
      "cell_type": "code",
      "source": [
        "data.dtypes"
      ],
      "metadata": {
        "colab": {
          "base_uri": "https://localhost:8080/"
        },
        "id": "IuXfUeZQHh7I",
        "outputId": "c49d36f5-fa9c-408c-d385-8f191eb0f8c4"
      },
      "execution_count": null,
      "outputs": [
        {
          "output_type": "execute_result",
          "data": {
            "text/plain": [
              "LoanStatNew    object\n",
              "Description    object\n",
              "dtype: object"
            ]
          },
          "metadata": {},
          "execution_count": 6
        }
      ]
    },
    {
      "cell_type": "code",
      "source": [
        "data.head"
      ],
      "metadata": {
        "colab": {
          "base_uri": "https://localhost:8080/"
        },
        "id": "opF8mcVNHo7P",
        "outputId": "4b65a05c-4dbb-4c8f-96a0-726c4dcb1fa6"
      },
      "execution_count": null,
      "outputs": [
        {
          "output_type": "execute_result",
          "data": {
            "text/plain": [
              "<bound method NDFrame.head of                LoanStatNew                                        Description\n",
              "0           acc_now_delinq  The number of accounts on which the borrower i...\n",
              "1     acc_open_past_24mths         Number of trades opened in past 24 months.\n",
              "2               addr_state  The state provided by the borrower in the loan...\n",
              "3                 all_util              Balance to credit limit on all trades\n",
              "4               annual_inc  The self-reported annual income provided by th...\n",
              "..                     ...                                                ...\n",
              "112    verification_status  Indicates if income was verified by LC, not ve...\n",
              "113  verified_status_joint  Indicates if the co-borrowers' joint income wa...\n",
              "114               zip_code  The first 3 numbers of the zip code provided b...\n",
              "115                    NaN                                                NaN\n",
              "116                    NaN  * Employer Title replaces Employer Name for al...\n",
              "\n",
              "[117 rows x 2 columns]>"
            ]
          },
          "metadata": {},
          "execution_count": 7
        }
      ]
    },
    {
      "cell_type": "code",
      "source": [
        "data.tail"
      ],
      "metadata": {
        "colab": {
          "base_uri": "https://localhost:8080/"
        },
        "id": "zBMWeCYTHw36",
        "outputId": "5ef1a09e-1a87-4dea-cf98-67e154529edd"
      },
      "execution_count": null,
      "outputs": [
        {
          "output_type": "execute_result",
          "data": {
            "text/plain": [
              "<bound method NDFrame.tail of                LoanStatNew                                        Description\n",
              "0           acc_now_delinq  The number of accounts on which the borrower i...\n",
              "1     acc_open_past_24mths         Number of trades opened in past 24 months.\n",
              "2               addr_state  The state provided by the borrower in the loan...\n",
              "3                 all_util              Balance to credit limit on all trades\n",
              "4               annual_inc  The self-reported annual income provided by th...\n",
              "..                     ...                                                ...\n",
              "112    verification_status  Indicates if income was verified by LC, not ve...\n",
              "113  verified_status_joint  Indicates if the co-borrowers' joint income wa...\n",
              "114               zip_code  The first 3 numbers of the zip code provided b...\n",
              "115                    NaN                                                NaN\n",
              "116                    NaN  * Employer Title replaces Employer Name for al...\n",
              "\n",
              "[117 rows x 2 columns]>"
            ]
          },
          "metadata": {},
          "execution_count": 8
        }
      ]
    }
  ]
}